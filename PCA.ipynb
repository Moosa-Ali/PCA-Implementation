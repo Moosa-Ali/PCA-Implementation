{
 "cells": [
  {
   "cell_type": "code",
   "execution_count": 44,
   "id": "d2adb954",
   "metadata": {},
   "outputs": [],
   "source": [
    "import pandas as pd\n",
    "import numpy as np\n"
   ]
  },
  {
   "cell_type": "code",
   "execution_count": 45,
   "id": "eeb495ae",
   "metadata": {},
   "outputs": [],
   "source": [
    "test = pd.DataFrame({\"f1\" : [-1, 0.3333,-1, 0.33333,1.33333],\n",
    "             \"f2\" : [-0.63246, 1.26491, 0.63246, 0, -1.26491],\n",
    "             \"f3\" : [0, 1.73205, -0.57735, -0.57735 ,-0.57735],\n",
    "             \"f4\" : [0.26062, 1.56374, -0.17375, -1.04249, -0.60812]})"
   ]
  },
  {
   "cell_type": "code",
   "execution_count": 46,
   "id": "58aea997",
   "metadata": {},
   "outputs": [],
   "source": [
    "data = pd.read_csv(\"archive/bodyPerformance.csv\")"
   ]
  },
  {
   "cell_type": "code",
   "execution_count": 47,
   "id": "3ad411bf",
   "metadata": {
    "scrolled": true
   },
   "outputs": [
    {
     "data": {
      "text/html": [
       "<div>\n",
       "<style scoped>\n",
       "    .dataframe tbody tr th:only-of-type {\n",
       "        vertical-align: middle;\n",
       "    }\n",
       "\n",
       "    .dataframe tbody tr th {\n",
       "        vertical-align: top;\n",
       "    }\n",
       "\n",
       "    .dataframe thead th {\n",
       "        text-align: right;\n",
       "    }\n",
       "</style>\n",
       "<table border=\"1\" class=\"dataframe\">\n",
       "  <thead>\n",
       "    <tr style=\"text-align: right;\">\n",
       "      <th></th>\n",
       "      <th>age</th>\n",
       "      <th>gender</th>\n",
       "      <th>height_cm</th>\n",
       "      <th>weight_kg</th>\n",
       "      <th>body fat_%</th>\n",
       "      <th>diastolic</th>\n",
       "      <th>systolic</th>\n",
       "      <th>gripForce</th>\n",
       "      <th>sit and bend forward_cm</th>\n",
       "      <th>sit-ups counts</th>\n",
       "      <th>broad jump_cm</th>\n",
       "      <th>class</th>\n",
       "    </tr>\n",
       "  </thead>\n",
       "  <tbody>\n",
       "    <tr>\n",
       "      <th>0</th>\n",
       "      <td>27.0</td>\n",
       "      <td>M</td>\n",
       "      <td>172.3</td>\n",
       "      <td>75.24</td>\n",
       "      <td>21.3</td>\n",
       "      <td>80.0</td>\n",
       "      <td>130.0</td>\n",
       "      <td>54.9</td>\n",
       "      <td>18.4</td>\n",
       "      <td>60.0</td>\n",
       "      <td>217.0</td>\n",
       "      <td>C</td>\n",
       "    </tr>\n",
       "    <tr>\n",
       "      <th>1</th>\n",
       "      <td>25.0</td>\n",
       "      <td>M</td>\n",
       "      <td>165.0</td>\n",
       "      <td>55.80</td>\n",
       "      <td>15.7</td>\n",
       "      <td>77.0</td>\n",
       "      <td>126.0</td>\n",
       "      <td>36.4</td>\n",
       "      <td>16.3</td>\n",
       "      <td>53.0</td>\n",
       "      <td>229.0</td>\n",
       "      <td>A</td>\n",
       "    </tr>\n",
       "    <tr>\n",
       "      <th>2</th>\n",
       "      <td>31.0</td>\n",
       "      <td>M</td>\n",
       "      <td>179.6</td>\n",
       "      <td>78.00</td>\n",
       "      <td>20.1</td>\n",
       "      <td>92.0</td>\n",
       "      <td>152.0</td>\n",
       "      <td>44.8</td>\n",
       "      <td>12.0</td>\n",
       "      <td>49.0</td>\n",
       "      <td>181.0</td>\n",
       "      <td>C</td>\n",
       "    </tr>\n",
       "    <tr>\n",
       "      <th>3</th>\n",
       "      <td>32.0</td>\n",
       "      <td>M</td>\n",
       "      <td>174.5</td>\n",
       "      <td>71.10</td>\n",
       "      <td>18.4</td>\n",
       "      <td>76.0</td>\n",
       "      <td>147.0</td>\n",
       "      <td>41.4</td>\n",
       "      <td>15.2</td>\n",
       "      <td>53.0</td>\n",
       "      <td>219.0</td>\n",
       "      <td>B</td>\n",
       "    </tr>\n",
       "    <tr>\n",
       "      <th>4</th>\n",
       "      <td>28.0</td>\n",
       "      <td>M</td>\n",
       "      <td>173.8</td>\n",
       "      <td>67.70</td>\n",
       "      <td>17.1</td>\n",
       "      <td>70.0</td>\n",
       "      <td>127.0</td>\n",
       "      <td>43.5</td>\n",
       "      <td>27.1</td>\n",
       "      <td>45.0</td>\n",
       "      <td>217.0</td>\n",
       "      <td>B</td>\n",
       "    </tr>\n",
       "  </tbody>\n",
       "</table>\n",
       "</div>"
      ],
      "text/plain": [
       "    age gender  height_cm  weight_kg  body fat_%  diastolic  systolic  \\\n",
       "0  27.0      M      172.3      75.24        21.3       80.0     130.0   \n",
       "1  25.0      M      165.0      55.80        15.7       77.0     126.0   \n",
       "2  31.0      M      179.6      78.00        20.1       92.0     152.0   \n",
       "3  32.0      M      174.5      71.10        18.4       76.0     147.0   \n",
       "4  28.0      M      173.8      67.70        17.1       70.0     127.0   \n",
       "\n",
       "   gripForce  sit and bend forward_cm  sit-ups counts  broad jump_cm class  \n",
       "0       54.9                     18.4            60.0          217.0     C  \n",
       "1       36.4                     16.3            53.0          229.0     A  \n",
       "2       44.8                     12.0            49.0          181.0     C  \n",
       "3       41.4                     15.2            53.0          219.0     B  \n",
       "4       43.5                     27.1            45.0          217.0     B  "
      ]
     },
     "execution_count": 47,
     "metadata": {},
     "output_type": "execute_result"
    }
   ],
   "source": [
    "data.head()"
   ]
  },
  {
   "cell_type": "code",
   "execution_count": 48,
   "id": "f0214adf",
   "metadata": {},
   "outputs": [],
   "source": [
    "Y = data[\"class\"]"
   ]
  },
  {
   "cell_type": "code",
   "execution_count": 49,
   "id": "f2d764be",
   "metadata": {},
   "outputs": [],
   "source": [
    "data.drop(columns = [\"gender\", \"class\"], inplace = True)"
   ]
  },
  {
   "cell_type": "code",
   "execution_count": 50,
   "id": "0495af0a",
   "metadata": {},
   "outputs": [
    {
     "data": {
      "text/html": [
       "<div>\n",
       "<style scoped>\n",
       "    .dataframe tbody tr th:only-of-type {\n",
       "        vertical-align: middle;\n",
       "    }\n",
       "\n",
       "    .dataframe tbody tr th {\n",
       "        vertical-align: top;\n",
       "    }\n",
       "\n",
       "    .dataframe thead th {\n",
       "        text-align: right;\n",
       "    }\n",
       "</style>\n",
       "<table border=\"1\" class=\"dataframe\">\n",
       "  <thead>\n",
       "    <tr style=\"text-align: right;\">\n",
       "      <th></th>\n",
       "      <th>age</th>\n",
       "      <th>height_cm</th>\n",
       "      <th>weight_kg</th>\n",
       "      <th>body fat_%</th>\n",
       "      <th>diastolic</th>\n",
       "      <th>systolic</th>\n",
       "      <th>gripForce</th>\n",
       "      <th>sit and bend forward_cm</th>\n",
       "      <th>sit-ups counts</th>\n",
       "      <th>broad jump_cm</th>\n",
       "    </tr>\n",
       "  </thead>\n",
       "  <tbody>\n",
       "    <tr>\n",
       "      <th>0</th>\n",
       "      <td>27.0</td>\n",
       "      <td>172.3</td>\n",
       "      <td>75.24</td>\n",
       "      <td>21.3</td>\n",
       "      <td>80.0</td>\n",
       "      <td>130.0</td>\n",
       "      <td>54.9</td>\n",
       "      <td>18.4</td>\n",
       "      <td>60.0</td>\n",
       "      <td>217.0</td>\n",
       "    </tr>\n",
       "    <tr>\n",
       "      <th>1</th>\n",
       "      <td>25.0</td>\n",
       "      <td>165.0</td>\n",
       "      <td>55.80</td>\n",
       "      <td>15.7</td>\n",
       "      <td>77.0</td>\n",
       "      <td>126.0</td>\n",
       "      <td>36.4</td>\n",
       "      <td>16.3</td>\n",
       "      <td>53.0</td>\n",
       "      <td>229.0</td>\n",
       "    </tr>\n",
       "    <tr>\n",
       "      <th>2</th>\n",
       "      <td>31.0</td>\n",
       "      <td>179.6</td>\n",
       "      <td>78.00</td>\n",
       "      <td>20.1</td>\n",
       "      <td>92.0</td>\n",
       "      <td>152.0</td>\n",
       "      <td>44.8</td>\n",
       "      <td>12.0</td>\n",
       "      <td>49.0</td>\n",
       "      <td>181.0</td>\n",
       "    </tr>\n",
       "    <tr>\n",
       "      <th>3</th>\n",
       "      <td>32.0</td>\n",
       "      <td>174.5</td>\n",
       "      <td>71.10</td>\n",
       "      <td>18.4</td>\n",
       "      <td>76.0</td>\n",
       "      <td>147.0</td>\n",
       "      <td>41.4</td>\n",
       "      <td>15.2</td>\n",
       "      <td>53.0</td>\n",
       "      <td>219.0</td>\n",
       "    </tr>\n",
       "    <tr>\n",
       "      <th>4</th>\n",
       "      <td>28.0</td>\n",
       "      <td>173.8</td>\n",
       "      <td>67.70</td>\n",
       "      <td>17.1</td>\n",
       "      <td>70.0</td>\n",
       "      <td>127.0</td>\n",
       "      <td>43.5</td>\n",
       "      <td>27.1</td>\n",
       "      <td>45.0</td>\n",
       "      <td>217.0</td>\n",
       "    </tr>\n",
       "  </tbody>\n",
       "</table>\n",
       "</div>"
      ],
      "text/plain": [
       "    age  height_cm  weight_kg  body fat_%  diastolic  systolic  gripForce  \\\n",
       "0  27.0      172.3      75.24        21.3       80.0     130.0       54.9   \n",
       "1  25.0      165.0      55.80        15.7       77.0     126.0       36.4   \n",
       "2  31.0      179.6      78.00        20.1       92.0     152.0       44.8   \n",
       "3  32.0      174.5      71.10        18.4       76.0     147.0       41.4   \n",
       "4  28.0      173.8      67.70        17.1       70.0     127.0       43.5   \n",
       "\n",
       "   sit and bend forward_cm  sit-ups counts  broad jump_cm  \n",
       "0                     18.4            60.0          217.0  \n",
       "1                     16.3            53.0          229.0  \n",
       "2                     12.0            49.0          181.0  \n",
       "3                     15.2            53.0          219.0  \n",
       "4                     27.1            45.0          217.0  "
      ]
     },
     "execution_count": 50,
     "metadata": {},
     "output_type": "execute_result"
    }
   ],
   "source": [
    "data.head()"
   ]
  },
  {
   "cell_type": "code",
   "execution_count": 51,
   "id": "194693f5",
   "metadata": {},
   "outputs": [],
   "source": [
    "\n",
    "def data_normalisation(scaled_data):\n",
    "    for col in scaled_data.columns:\n",
    "        scaled_data[col] = (scaled_data[col]-scaled_data[col].mean())/scaled_data[col].std() #data normalisation \n",
    "    \n",
    "    return scaled_data"
   ]
  },
  {
   "cell_type": "code",
   "execution_count": 52,
   "id": "fc87aeaf",
   "metadata": {},
   "outputs": [],
   "source": [
    "scaled_data = data_normalisation(data)"
   ]
  },
  {
   "cell_type": "code",
   "execution_count": 53,
   "id": "2bc4d37e",
   "metadata": {},
   "outputs": [
    {
     "data": {
      "text/html": [
       "<div>\n",
       "<style scoped>\n",
       "    .dataframe tbody tr th:only-of-type {\n",
       "        vertical-align: middle;\n",
       "    }\n",
       "\n",
       "    .dataframe tbody tr th {\n",
       "        vertical-align: top;\n",
       "    }\n",
       "\n",
       "    .dataframe thead th {\n",
       "        text-align: right;\n",
       "    }\n",
       "</style>\n",
       "<table border=\"1\" class=\"dataframe\">\n",
       "  <thead>\n",
       "    <tr style=\"text-align: right;\">\n",
       "      <th></th>\n",
       "      <th>age</th>\n",
       "      <th>height_cm</th>\n",
       "      <th>weight_kg</th>\n",
       "      <th>body fat_%</th>\n",
       "      <th>diastolic</th>\n",
       "      <th>systolic</th>\n",
       "      <th>gripForce</th>\n",
       "      <th>sit and bend forward_cm</th>\n",
       "      <th>sit-ups counts</th>\n",
       "      <th>broad jump_cm</th>\n",
       "    </tr>\n",
       "  </thead>\n",
       "  <tbody>\n",
       "    <tr>\n",
       "      <th>0</th>\n",
       "      <td>-0.717405</td>\n",
       "      <td>0.443856</td>\n",
       "      <td>0.652126</td>\n",
       "      <td>-0.267357</td>\n",
       "      <td>0.112005</td>\n",
       "      <td>-0.015959</td>\n",
       "      <td>1.688127</td>\n",
       "      <td>0.377303</td>\n",
       "      <td>1.416909</td>\n",
       "      <td>0.673983</td>\n",
       "    </tr>\n",
       "    <tr>\n",
       "      <th>1</th>\n",
       "      <td>-0.864187</td>\n",
       "      <td>-0.422450</td>\n",
       "      <td>-0.974698</td>\n",
       "      <td>-1.039042</td>\n",
       "      <td>-0.167272</td>\n",
       "      <td>-0.287810</td>\n",
       "      <td>-0.053071</td>\n",
       "      <td>0.128979</td>\n",
       "      <td>0.926599</td>\n",
       "      <td>0.974977</td>\n",
       "    </tr>\n",
       "    <tr>\n",
       "      <th>2</th>\n",
       "      <td>-0.423841</td>\n",
       "      <td>1.310163</td>\n",
       "      <td>0.883094</td>\n",
       "      <td>-0.432718</td>\n",
       "      <td>1.229112</td>\n",
       "      <td>1.479221</td>\n",
       "      <td>0.737527</td>\n",
       "      <td>-0.379495</td>\n",
       "      <td>0.646422</td>\n",
       "      <td>-0.228996</td>\n",
       "    </tr>\n",
       "    <tr>\n",
       "      <th>3</th>\n",
       "      <td>-0.350450</td>\n",
       "      <td>0.704935</td>\n",
       "      <td>0.305672</td>\n",
       "      <td>-0.666979</td>\n",
       "      <td>-0.260364</td>\n",
       "      <td>1.139407</td>\n",
       "      <td>0.417523</td>\n",
       "      <td>-0.001096</td>\n",
       "      <td>0.926599</td>\n",
       "      <td>0.724149</td>\n",
       "    </tr>\n",
       "    <tr>\n",
       "      <th>4</th>\n",
       "      <td>-0.644014</td>\n",
       "      <td>0.621865</td>\n",
       "      <td>0.021146</td>\n",
       "      <td>-0.846121</td>\n",
       "      <td>-0.818918</td>\n",
       "      <td>-0.219847</td>\n",
       "      <td>0.615172</td>\n",
       "      <td>1.406076</td>\n",
       "      <td>0.366245</td>\n",
       "      <td>0.673983</td>\n",
       "    </tr>\n",
       "    <tr>\n",
       "      <th>...</th>\n",
       "      <td>...</td>\n",
       "      <td>...</td>\n",
       "      <td>...</td>\n",
       "      <td>...</td>\n",
       "      <td>...</td>\n",
       "      <td>...</td>\n",
       "      <td>...</td>\n",
       "      <td>...</td>\n",
       "      <td>...</td>\n",
       "      <td>...</td>\n",
       "    </tr>\n",
       "    <tr>\n",
       "      <th>13388</th>\n",
       "      <td>-0.864187</td>\n",
       "      <td>0.420122</td>\n",
       "      <td>0.364252</td>\n",
       "      <td>-0.970141</td>\n",
       "      <td>-0.446549</td>\n",
       "      <td>0.731631</td>\n",
       "      <td>-0.109543</td>\n",
       "      <td>0.259053</td>\n",
       "      <td>0.506334</td>\n",
       "      <td>0.197411</td>\n",
       "    </tr>\n",
       "    <tr>\n",
       "      <th>13389</th>\n",
       "      <td>-1.157752</td>\n",
       "      <td>1.322030</td>\n",
       "      <td>-0.296855</td>\n",
       "      <td>-1.535125</td>\n",
       "      <td>-0.446549</td>\n",
       "      <td>-0.151884</td>\n",
       "      <td>-0.373076</td>\n",
       "      <td>-1.668418</td>\n",
       "      <td>0.576378</td>\n",
       "      <td>-0.580155</td>\n",
       "    </tr>\n",
       "    <tr>\n",
       "      <th>13390</th>\n",
       "      <td>0.163287</td>\n",
       "      <td>1.025350</td>\n",
       "      <td>1.092305</td>\n",
       "      <td>-0.432718</td>\n",
       "      <td>-0.074180</td>\n",
       "      <td>0.119967</td>\n",
       "      <td>2.497549</td>\n",
       "      <td>0.140804</td>\n",
       "      <td>0.366245</td>\n",
       "      <td>0.974977</td>\n",
       "    </tr>\n",
       "    <tr>\n",
       "      <th>13391</th>\n",
       "      <td>1.998064</td>\n",
       "      <td>-2.665352</td>\n",
       "      <td>-0.815698</td>\n",
       "      <td>2.364642</td>\n",
       "      <td>-1.005102</td>\n",
       "      <td>-0.627623</td>\n",
       "      <td>-1.662504</td>\n",
       "      <td>-0.710595</td>\n",
       "      <td>-2.785744</td>\n",
       "      <td>-2.887770</td>\n",
       "    </tr>\n",
       "    <tr>\n",
       "      <th>13392</th>\n",
       "      <td>-0.203668</td>\n",
       "      <td>-0.541122</td>\n",
       "      <td>-0.112749</td>\n",
       "      <td>-0.515398</td>\n",
       "      <td>0.298189</td>\n",
       "      <td>1.343295</td>\n",
       "      <td>-0.100131</td>\n",
       "      <td>-0.958919</td>\n",
       "      <td>0.786511</td>\n",
       "      <td>-0.254079</td>\n",
       "    </tr>\n",
       "  </tbody>\n",
       "</table>\n",
       "<p>13393 rows × 10 columns</p>\n",
       "</div>"
      ],
      "text/plain": [
       "            age  height_cm  weight_kg  body fat_%  diastolic  systolic  \\\n",
       "0     -0.717405   0.443856   0.652126   -0.267357   0.112005 -0.015959   \n",
       "1     -0.864187  -0.422450  -0.974698   -1.039042  -0.167272 -0.287810   \n",
       "2     -0.423841   1.310163   0.883094   -0.432718   1.229112  1.479221   \n",
       "3     -0.350450   0.704935   0.305672   -0.666979  -0.260364  1.139407   \n",
       "4     -0.644014   0.621865   0.021146   -0.846121  -0.818918 -0.219847   \n",
       "...         ...        ...        ...         ...        ...       ...   \n",
       "13388 -0.864187   0.420122   0.364252   -0.970141  -0.446549  0.731631   \n",
       "13389 -1.157752   1.322030  -0.296855   -1.535125  -0.446549 -0.151884   \n",
       "13390  0.163287   1.025350   1.092305   -0.432718  -0.074180  0.119967   \n",
       "13391  1.998064  -2.665352  -0.815698    2.364642  -1.005102 -0.627623   \n",
       "13392 -0.203668  -0.541122  -0.112749   -0.515398   0.298189  1.343295   \n",
       "\n",
       "       gripForce  sit and bend forward_cm  sit-ups counts  broad jump_cm  \n",
       "0       1.688127                 0.377303        1.416909       0.673983  \n",
       "1      -0.053071                 0.128979        0.926599       0.974977  \n",
       "2       0.737527                -0.379495        0.646422      -0.228996  \n",
       "3       0.417523                -0.001096        0.926599       0.724149  \n",
       "4       0.615172                 1.406076        0.366245       0.673983  \n",
       "...          ...                      ...             ...            ...  \n",
       "13388  -0.109543                 0.259053        0.506334       0.197411  \n",
       "13389  -0.373076                -1.668418        0.576378      -0.580155  \n",
       "13390   2.497549                 0.140804        0.366245       0.974977  \n",
       "13391  -1.662504                -0.710595       -2.785744      -2.887770  \n",
       "13392  -0.100131                -0.958919        0.786511      -0.254079  \n",
       "\n",
       "[13393 rows x 10 columns]"
      ]
     },
     "execution_count": 53,
     "metadata": {},
     "output_type": "execute_result"
    }
   ],
   "source": [
    "scaled_data"
   ]
  },
  {
   "cell_type": "code",
   "execution_count": 54,
   "id": "80c07b55",
   "metadata": {},
   "outputs": [],
   "source": [
    "def covariance_calculation(mean_subtracted):\n",
    "    #calcualte covariance amongst scaled values\n",
    "    for col in mean_subtracted.columns:\n",
    "        mean_subtracted[col] = mean_subtracted[col]-mean_subtracted[col].mean()\n",
    "        \n",
    "        return np.dot(mean_subtracted.T,mean_subtracted)/(len(mean_subtracted))"
   ]
  },
  {
   "cell_type": "code",
   "execution_count": null,
   "id": "cbdd7ff1",
   "metadata": {
    "scrolled": true
   },
   "outputs": [],
   "source": []
  },
  {
   "cell_type": "code",
   "execution_count": 55,
   "id": "44b0351d",
   "metadata": {},
   "outputs": [
    {
     "data": {
      "text/html": [
       "<div>\n",
       "<style scoped>\n",
       "    .dataframe tbody tr th:only-of-type {\n",
       "        vertical-align: middle;\n",
       "    }\n",
       "\n",
       "    .dataframe tbody tr th {\n",
       "        vertical-align: top;\n",
       "    }\n",
       "\n",
       "    .dataframe thead th {\n",
       "        text-align: right;\n",
       "    }\n",
       "</style>\n",
       "<table border=\"1\" class=\"dataframe\">\n",
       "  <thead>\n",
       "    <tr style=\"text-align: right;\">\n",
       "      <th></th>\n",
       "      <th>age</th>\n",
       "      <th>height_cm</th>\n",
       "      <th>weight_kg</th>\n",
       "      <th>body fat_%</th>\n",
       "      <th>diastolic</th>\n",
       "      <th>systolic</th>\n",
       "      <th>gripForce</th>\n",
       "      <th>sit and bend forward_cm</th>\n",
       "      <th>sit-ups counts</th>\n",
       "      <th>broad jump_cm</th>\n",
       "    </tr>\n",
       "  </thead>\n",
       "  <tbody>\n",
       "    <tr>\n",
       "      <th>age</th>\n",
       "      <td>1.000000</td>\n",
       "      <td>-0.293980</td>\n",
       "      <td>-0.099966</td>\n",
       "      <td>0.242302</td>\n",
       "      <td>0.158508</td>\n",
       "      <td>0.211167</td>\n",
       "      <td>-0.179583</td>\n",
       "      <td>-0.070033</td>\n",
       "      <td>-0.544581</td>\n",
       "      <td>-0.435172</td>\n",
       "    </tr>\n",
       "    <tr>\n",
       "      <th>height_cm</th>\n",
       "      <td>-0.293980</td>\n",
       "      <td>1.000000</td>\n",
       "      <td>0.734909</td>\n",
       "      <td>-0.515440</td>\n",
       "      <td>0.145933</td>\n",
       "      <td>0.210186</td>\n",
       "      <td>0.735024</td>\n",
       "      <td>-0.221970</td>\n",
       "      <td>0.500424</td>\n",
       "      <td>0.674589</td>\n",
       "    </tr>\n",
       "    <tr>\n",
       "      <th>weight_kg</th>\n",
       "      <td>-0.099966</td>\n",
       "      <td>0.734909</td>\n",
       "      <td>1.000000</td>\n",
       "      <td>-0.084065</td>\n",
       "      <td>0.262317</td>\n",
       "      <td>0.338943</td>\n",
       "      <td>0.700119</td>\n",
       "      <td>-0.296249</td>\n",
       "      <td>0.294899</td>\n",
       "      <td>0.479564</td>\n",
       "    </tr>\n",
       "    <tr>\n",
       "      <th>body fat_%</th>\n",
       "      <td>0.242302</td>\n",
       "      <td>-0.515440</td>\n",
       "      <td>-0.084065</td>\n",
       "      <td>1.000000</td>\n",
       "      <td>0.048059</td>\n",
       "      <td>-0.030376</td>\n",
       "      <td>-0.541788</td>\n",
       "      <td>-0.071225</td>\n",
       "      <td>-0.608912</td>\n",
       "      <td>-0.673273</td>\n",
       "    </tr>\n",
       "    <tr>\n",
       "      <th>diastolic</th>\n",
       "      <td>0.158508</td>\n",
       "      <td>0.145933</td>\n",
       "      <td>0.262317</td>\n",
       "      <td>0.048059</td>\n",
       "      <td>1.000000</td>\n",
       "      <td>0.676309</td>\n",
       "      <td>0.202062</td>\n",
       "      <td>-0.072098</td>\n",
       "      <td>0.016547</td>\n",
       "      <td>0.097243</td>\n",
       "    </tr>\n",
       "    <tr>\n",
       "      <th>systolic</th>\n",
       "      <td>0.211167</td>\n",
       "      <td>0.210186</td>\n",
       "      <td>0.338943</td>\n",
       "      <td>-0.030376</td>\n",
       "      <td>0.676309</td>\n",
       "      <td>1.000000</td>\n",
       "      <td>0.286012</td>\n",
       "      <td>-0.082434</td>\n",
       "      <td>0.056276</td>\n",
       "      <td>0.152894</td>\n",
       "    </tr>\n",
       "    <tr>\n",
       "      <th>gripForce</th>\n",
       "      <td>-0.179583</td>\n",
       "      <td>0.735024</td>\n",
       "      <td>0.700119</td>\n",
       "      <td>-0.541788</td>\n",
       "      <td>0.202062</td>\n",
       "      <td>0.286012</td>\n",
       "      <td>1.000000</td>\n",
       "      <td>-0.112577</td>\n",
       "      <td>0.576669</td>\n",
       "      <td>0.746853</td>\n",
       "    </tr>\n",
       "    <tr>\n",
       "      <th>sit and bend forward_cm</th>\n",
       "      <td>-0.070033</td>\n",
       "      <td>-0.221970</td>\n",
       "      <td>-0.296249</td>\n",
       "      <td>-0.071225</td>\n",
       "      <td>-0.072098</td>\n",
       "      <td>-0.082434</td>\n",
       "      <td>-0.112577</td>\n",
       "      <td>1.000000</td>\n",
       "      <td>0.177153</td>\n",
       "      <td>0.026487</td>\n",
       "    </tr>\n",
       "    <tr>\n",
       "      <th>sit-ups counts</th>\n",
       "      <td>-0.544581</td>\n",
       "      <td>0.500424</td>\n",
       "      <td>0.294899</td>\n",
       "      <td>-0.608912</td>\n",
       "      <td>0.016547</td>\n",
       "      <td>0.056276</td>\n",
       "      <td>0.576669</td>\n",
       "      <td>0.177153</td>\n",
       "      <td>1.000000</td>\n",
       "      <td>0.748273</td>\n",
       "    </tr>\n",
       "    <tr>\n",
       "      <th>broad jump_cm</th>\n",
       "      <td>-0.435172</td>\n",
       "      <td>0.674589</td>\n",
       "      <td>0.479564</td>\n",
       "      <td>-0.673273</td>\n",
       "      <td>0.097243</td>\n",
       "      <td>0.152894</td>\n",
       "      <td>0.746853</td>\n",
       "      <td>0.026487</td>\n",
       "      <td>0.748273</td>\n",
       "      <td>1.000000</td>\n",
       "    </tr>\n",
       "  </tbody>\n",
       "</table>\n",
       "</div>"
      ],
      "text/plain": [
       "                              age  height_cm  weight_kg  body fat_%  \\\n",
       "age                      1.000000  -0.293980  -0.099966    0.242302   \n",
       "height_cm               -0.293980   1.000000   0.734909   -0.515440   \n",
       "weight_kg               -0.099966   0.734909   1.000000   -0.084065   \n",
       "body fat_%               0.242302  -0.515440  -0.084065    1.000000   \n",
       "diastolic                0.158508   0.145933   0.262317    0.048059   \n",
       "systolic                 0.211167   0.210186   0.338943   -0.030376   \n",
       "gripForce               -0.179583   0.735024   0.700119   -0.541788   \n",
       "sit and bend forward_cm -0.070033  -0.221970  -0.296249   -0.071225   \n",
       "sit-ups counts          -0.544581   0.500424   0.294899   -0.608912   \n",
       "broad jump_cm           -0.435172   0.674589   0.479564   -0.673273   \n",
       "\n",
       "                         diastolic  systolic  gripForce  \\\n",
       "age                       0.158508  0.211167  -0.179583   \n",
       "height_cm                 0.145933  0.210186   0.735024   \n",
       "weight_kg                 0.262317  0.338943   0.700119   \n",
       "body fat_%                0.048059 -0.030376  -0.541788   \n",
       "diastolic                 1.000000  0.676309   0.202062   \n",
       "systolic                  0.676309  1.000000   0.286012   \n",
       "gripForce                 0.202062  0.286012   1.000000   \n",
       "sit and bend forward_cm  -0.072098 -0.082434  -0.112577   \n",
       "sit-ups counts            0.016547  0.056276   0.576669   \n",
       "broad jump_cm             0.097243  0.152894   0.746853   \n",
       "\n",
       "                         sit and bend forward_cm  sit-ups counts  \\\n",
       "age                                    -0.070033       -0.544581   \n",
       "height_cm                              -0.221970        0.500424   \n",
       "weight_kg                              -0.296249        0.294899   \n",
       "body fat_%                             -0.071225       -0.608912   \n",
       "diastolic                              -0.072098        0.016547   \n",
       "systolic                               -0.082434        0.056276   \n",
       "gripForce                              -0.112577        0.576669   \n",
       "sit and bend forward_cm                 1.000000        0.177153   \n",
       "sit-ups counts                          0.177153        1.000000   \n",
       "broad jump_cm                           0.026487        0.748273   \n",
       "\n",
       "                         broad jump_cm  \n",
       "age                          -0.435172  \n",
       "height_cm                     0.674589  \n",
       "weight_kg                     0.479564  \n",
       "body fat_%                   -0.673273  \n",
       "diastolic                     0.097243  \n",
       "systolic                      0.152894  \n",
       "gripForce                     0.746853  \n",
       "sit and bend forward_cm       0.026487  \n",
       "sit-ups counts                0.748273  \n",
       "broad jump_cm                 1.000000  "
      ]
     },
     "execution_count": 55,
     "metadata": {},
     "output_type": "execute_result"
    }
   ],
   "source": [
    "scaled_data.cov()"
   ]
  },
  {
   "cell_type": "code",
   "execution_count": null,
   "id": "977b3fa1",
   "metadata": {},
   "outputs": [],
   "source": []
  },
  {
   "cell_type": "code",
   "execution_count": 56,
   "id": "c31ff6a7",
   "metadata": {},
   "outputs": [],
   "source": [
    "cov_calc = covariance_calculation(scaled_data)"
   ]
  },
  {
   "cell_type": "code",
   "execution_count": 57,
   "id": "785f12b5",
   "metadata": {},
   "outputs": [
    {
     "data": {
      "text/plain": [
       "(10, 10)"
      ]
     },
     "execution_count": 57,
     "metadata": {},
     "output_type": "execute_result"
    }
   ],
   "source": [
    "cov_calc.shape"
   ]
  },
  {
   "cell_type": "code",
   "execution_count": 58,
   "id": "1c17c6b9",
   "metadata": {},
   "outputs": [],
   "source": [
    "from numpy.linalg import eig\n",
    "\n",
    "w,v=eig(cov_calc)"
   ]
  },
  {
   "cell_type": "code",
   "execution_count": 59,
   "id": "a23f10db",
   "metadata": {},
   "outputs": [
    {
     "name": "stdout",
     "output_type": "stream",
     "text": [
      "[4.1807462  2.05372432 1.2126157  0.78926983 0.65115152 0.09974436\n",
      " 0.17425401 0.21444483 0.30452217 0.31878041]\n",
      "[[-0.20808912  0.37925212  0.04664806  0.74629921 -0.22918411  0.09108812\n",
      "   0.22239345  0.26222253 -0.25558157  0.0967696 ]\n",
      " [ 0.42072583  0.07588804 -0.23475395  0.04481827 -0.12482537  0.48063096\n",
      "   0.1152247   0.3481329   0.43306061 -0.43761908]\n",
      " [ 0.33715202  0.29973208 -0.32000643 -0.16500368 -0.47863243 -0.65077626\n",
      "   0.04756182  0.10306391 -0.01231538  0.03498801]\n",
      " [-0.3306508   0.23999607 -0.17520106 -0.53635166 -0.39475802  0.47884922\n",
      "   0.17937913 -0.01236866 -0.22172964  0.21926937]\n",
      " [ 0.10611909  0.50880559  0.39806376 -0.24930419  0.24892848 -0.04183504\n",
      "  -0.02371223  0.04549744 -0.40013679 -0.53178096]\n",
      " [ 0.14346861  0.52157405  0.37331367 -0.06701741  0.15314654  0.04248172\n",
      "  -0.00582683 -0.05906547  0.53177981  0.50194803]\n",
      " [ 0.43237264  0.09546997 -0.05749725  0.19222469 -0.21286872  0.30473561\n",
      "  -0.60029778 -0.42194444 -0.27148285  0.11579622]\n",
      " [-0.04546273 -0.27529491  0.67462234 -0.01355705 -0.63845207 -0.02829086\n",
      "  -0.01495984 -0.03480351  0.15799731 -0.17896117]\n",
      " [ 0.37851772 -0.2651193   0.21543522 -0.14182685  0.08162265  0.07149128\n",
      "  -0.04994437  0.64998124 -0.348416    0.40220874]\n",
      " [ 0.4388099  -0.12984119  0.0834481   0.04729274  0.04421234  0.07456866\n",
      "   0.73427075 -0.43816084 -0.18671328  0.08872103]]\n"
     ]
    }
   ],
   "source": [
    "print(w)\n",
    "print(v)"
   ]
  },
  {
   "cell_type": "code",
   "execution_count": 60,
   "id": "ea0f83b2",
   "metadata": {},
   "outputs": [
    {
     "data": {
      "text/plain": [
       "<BarContainer object of 10 artists>"
      ]
     },
     "execution_count": 60,
     "metadata": {},
     "output_type": "execute_result"
    },
    {
     "data": {
      "image/png": "[encoded data removed]",
      "text/plain": [
       "<Figure size 432x288 with 1 Axes>"
      ]
     },
     "metadata": {
      "needs_background": "light"
     },
     "output_type": "display_data"
    }
   ],
   "source": [
    "import matplotlib.pyplot as plt\n",
    "\n",
    "plt.bar([\"e\" + str(i+1) for i in range(len(w))], w)"
   ]
  },
  {
   "cell_type": "code",
   "execution_count": 61,
   "id": "b3a5ae64",
   "metadata": {},
   "outputs": [],
   "source": [
    "useful_pc = v[:,:3]"
   ]
  },
  {
   "cell_type": "code",
   "execution_count": 91,
   "id": "2087077a",
   "metadata": {},
   "outputs": [],
   "source": [
    "priciple_data = np.dot(data.values, useful_pc)"
   ]
  },
  {
   "cell_type": "code",
   "execution_count": 92,
   "id": "cf67ace5",
   "metadata": {},
   "outputs": [
    {
     "data": {
      "text/plain": [
       "array([[ 2.19871193, -0.46429554,  0.2580907 ],\n",
       "       [ 0.70774199, -1.54936635,  0.74982721],\n",
       "       [ 1.90322116,  1.52966508,  0.32908872],\n",
       "       ...,\n",
       "       [ 2.55803425,  0.36410313, -0.37991379],\n",
       "       [-5.79889837,  1.1901717 , -1.29366639],\n",
       "       [ 0.35800167,  0.65545075,  0.37116611]])"
      ]
     },
     "execution_count": 92,
     "metadata": {},
     "output_type": "execute_result"
    }
   ],
   "source": [
    "priciple_data"
   ]
  },
  {
   "cell_type": "code",
   "execution_count": 63,
   "id": "5872b7fe",
   "metadata": {},
   "outputs": [],
   "source": [
    "from sklearn.decomposition import PCA\n",
    "\n",
    "pca = PCA(n_components = 3)\n",
    "\n",
    "componenst = pca.fit_transform(scaled_data)\n",
    "\n",
    "\n"
   ]
  },
  {
   "cell_type": "code",
   "execution_count": 64,
   "id": "7d825e64",
   "metadata": {},
   "outputs": [
    {
     "data": {
      "text/plain": [
       "array([[-2.19871193,  0.46429554,  0.2580907 ],\n",
       "       [-0.70774199,  1.54936635,  0.74982721],\n",
       "       [-1.90322116, -1.52966508,  0.32908872],\n",
       "       ...,\n",
       "       [-2.55803425, -0.36410313, -0.37991379],\n",
       "       [ 5.79889837, -1.1901717 , -1.29366639],\n",
       "       [-0.35800167, -0.65545075,  0.37116611]])"
      ]
     },
     "execution_count": 64,
     "metadata": {},
     "output_type": "execute_result"
    }
   ],
   "source": [
    "componenst"
   ]
  },
  {
   "cell_type": "code",
   "execution_count": 65,
   "id": "d1fa6a5c",
   "metadata": {},
   "outputs": [
    {
     "data": {
      "text/plain": [
       "array([[ 0.20808912, -0.42072583, -0.33715202,  0.3306508 , -0.10611909,\n",
       "        -0.14346861, -0.43237264,  0.04546273, -0.37851772, -0.4388099 ],\n",
       "       [-0.37925212, -0.07588804, -0.29973208, -0.23999607, -0.50880559,\n",
       "        -0.52157405, -0.09546997,  0.27529491,  0.2651193 ,  0.12984119],\n",
       "       [ 0.04664806, -0.23475395, -0.32000643, -0.17520106,  0.39806376,\n",
       "         0.37331367, -0.05749725,  0.67462234,  0.21543522,  0.0834481 ]])"
      ]
     },
     "execution_count": 65,
     "metadata": {},
     "output_type": "execute_result"
    }
   ],
   "source": [
    "pca.components_"
   ]
  },
  {
   "cell_type": "markdown",
   "id": "d94e70e2",
   "metadata": {},
   "source": [
    "## Training classification models"
   ]
  },
  {
   "cell_type": "code",
   "execution_count": 72,
   "id": "039132a8",
   "metadata": {},
   "outputs": [],
   "source": [
    "from sklearn.linear_model import LogisticRegression\n",
    "from sklearn.model_selection import train_test_split"
   ]
  },
  {
   "cell_type": "code",
   "execution_count": 73,
   "id": "ab935adf",
   "metadata": {},
   "outputs": [],
   "source": [
    "y, _ = pd.factorize(Y)"
   ]
  },
  {
   "cell_type": "code",
   "execution_count": 84,
   "id": "9eaeae74",
   "metadata": {},
   "outputs": [],
   "source": [
    "X_train, X_test, y_train, y_test = train_test_split(data, y, test_size=0.35, random_state=42)"
   ]
  },
  {
   "cell_type": "code",
   "execution_count": 86,
   "id": "d716d4c4",
   "metadata": {},
   "outputs": [
    {
     "name": "stdout",
     "output_type": "stream",
     "text": [
      "Train accuracy: 60.18380241240666\n",
      "Test accuracy: 61.00682593856656\n"
     ]
    }
   ],
   "source": [
    "clf = LogisticRegression(random_state=0).fit(X_train, y_train)\n",
    "print(\"Train accuracy:\",clf.score(X_train,y_train)*100)\n",
    "print(\"Test accuracy:\",clf.score(X_test,y_test)*100)"
   ]
  },
  {
   "cell_type": "code",
   "execution_count": 97,
   "id": "d712251c",
   "metadata": {},
   "outputs": [],
   "source": [
    "X_train1, X_test1, y_train1, y_test1 = train_test_split(priciple_data, y, test_size=0.10, random_state=42)"
   ]
  },
  {
   "cell_type": "code",
   "execution_count": 98,
   "id": "e6909bce",
   "metadata": {},
   "outputs": [
    {
     "name": "stdout",
     "output_type": "stream",
     "text": [
      "Train accuracy: 51.88749688874139\n",
      "Test accuracy: 51.417910447761194\n"
     ]
    }
   ],
   "source": [
    "clf = LogisticRegression(random_state=0).fit(X_train1, y_train1)\n",
    "print(\"Train accuracy:\",clf.score(X_train1,y_train1)*100)\n",
    "print(\"Test accuracy:\",clf.score(X_test1,y_test1)*100)"
   ]
  },
  {
   "cell_type": "code",
   "execution_count": null,
   "id": "059cfbd3",
   "metadata": {},
   "outputs": [],
   "source": []
  }
 ],
 "metadata": {
  "kernelspec": {
   "display_name": "Python 3",
   "language": "python",
   "name": "python3"
  },
  "language_info": {
   "codemirror_mode": {
    "name": "ipython",
    "version": 3
   },
   "file_extension": ".py",
   "mimetype": "text/x-python",
   "name": "python",
   "nbconvert_exporter": "python",
   "pygments_lexer": "ipython3",
   "version": "3.8.8"
  }
 },
 "nbformat": 4,
 "nbformat_minor": 5
}
